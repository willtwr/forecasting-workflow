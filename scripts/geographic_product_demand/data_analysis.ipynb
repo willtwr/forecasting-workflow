{
 "cells": [
  {
   "cell_type": "code",
   "execution_count": 1,
   "id": "f4d0480a",
   "metadata": {},
   "outputs": [],
   "source": [
    "import pandas as pd"
   ]
  },
  {
   "cell_type": "code",
   "execution_count": 2,
   "id": "cddebd83",
   "metadata": {},
   "outputs": [],
   "source": [
    "pd.set_option(\"display.expand_frame_repr\", False)"
   ]
  },
  {
   "cell_type": "code",
   "execution_count": 3,
   "id": "10d68c44",
   "metadata": {},
   "outputs": [],
   "source": [
    "file_path = (\n",
    "    \"../../data/geographic_product_demand/geographic_product_demand_dataset_10M.csv\"\n",
    ")\n",
    "pd_data = pd.read_csv(file_path)"
   ]
  },
  {
   "cell_type": "code",
   "execution_count": 4,
   "id": "97022f9d",
   "metadata": {},
   "outputs": [
    {
     "name": "stdout",
     "output_type": "stream",
     "text": [
      "         Location ID       City        State Country  Latitude  Longitude Product ID   Product Category  Sales Volume  Sales Revenue        Date\n",
      "0                  1      Tokyo          NaN   Japan   35.6895   139.6917   FOOD6004             Coffee          60.0        1014.52  2023-11-16\n",
      "1                  2  Hyderabad    Telangana   India   17.3850    78.4867   BOOK5004     Self-help Book          86.4        3321.36  2022-02-10\n",
      "2                  3      Delhi        Delhi   India   28.7041    77.1025   BOOK5001              Novel          59.0        1244.63  2022-12-05\n",
      "3                  4    Toronto          NaN  Canada   43.6510   -79.3470   FOOD6005      Energy Drinks          18.0         237.82  2024-08-01\n",
      "4                  5    Chicago           IL     USA   41.8781   -87.6298   HOME3003                Bed          56.0       30791.05  2024-07-13\n",
      "...              ...        ...          ...     ...       ...        ...        ...                ...           ...            ...         ...\n",
      "9999995      9999996      Miami           FL     USA   25.7617   -80.1918   HOME3005    Washing Machine          48.0       37195.95  2023-07-21\n",
      "9999996      9999997   New York           NY     USA   40.7128   -74.0060   CLOT2002        Women Dress          91.2        9116.06  2022-05-12\n",
      "9999997      9999998    Kolkata  West Bengal   India   22.5726    88.3639   ELEC1008  Bluetooth Speaker          62.4        8366.69  2023-03-20\n",
      "9999998      9999999      Miami           FL     USA   25.7617   -80.1918   HOME3003                Bed          76.0       39868.58  2024-07-08\n",
      "9999999     10000000      Tokyo          NaN   Japan   35.6895   139.6917   CLOT2004              Jeans          44.0        2301.52  2023-06-01\n",
      "\n",
      "[10000000 rows x 11 columns]\n"
     ]
    }
   ],
   "source": [
    "print(pd_data)"
   ]
  }
 ],
 "metadata": {
  "kernelspec": {
   "display_name": ".venv",
   "language": "python",
   "name": "python3"
  },
  "language_info": {
   "codemirror_mode": {
    "name": "ipython",
    "version": 3
   },
   "file_extension": ".py",
   "mimetype": "text/x-python",
   "name": "python",
   "nbconvert_exporter": "python",
   "pygments_lexer": "ipython3",
   "version": "3.11.13"
  }
 },
 "nbformat": 4,
 "nbformat_minor": 5
}
