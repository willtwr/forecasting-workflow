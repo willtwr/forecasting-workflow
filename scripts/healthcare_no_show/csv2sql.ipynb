{
 "cells": [
  {
   "cell_type": "markdown",
   "id": "4c53f53d",
   "metadata": {},
   "source": [
    "# Healthcare No Show CSV to SQL\n",
    "\n",
    "Scripts for building SQL tables and store (cleaned) data."
   ]
  },
  {
   "cell_type": "code",
   "execution_count": 1,
   "id": "9a60603d",
   "metadata": {},
   "outputs": [],
   "source": [
    "import os\n",
    "from dotenv import load_dotenv\n",
    "import mysql.connector\n",
    "import sqlalchemy\n",
    "import pandas as pd\n",
    "\n",
    "load_dotenv()\n",
    "pd.set_option(\"display.expand_frame_repr\", False)"
   ]
  },
  {
   "cell_type": "markdown",
   "id": "7f4b700e",
   "metadata": {},
   "source": [
    "Create table"
   ]
  },
  {
   "cell_type": "code",
   "execution_count": 2,
   "id": "918f5040",
   "metadata": {},
   "outputs": [],
   "source": [
    "mydb = mysql.connector.connect(\n",
    "    host=os.getenv(\"HOST\"),\n",
    "    user=os.getenv(\"USER\"),\n",
    "    password=os.getenv(\"PASSWORD\"),\n",
    "    database=os.getenv(\"DATABASE\"),\n",
    ")\n",
    "mycursor = mydb.cursor()"
   ]
  },
  {
   "cell_type": "code",
   "execution_count": 3,
   "id": "08253e4b",
   "metadata": {},
   "outputs": [],
   "source": [
    "create_table_query = (\n",
    "    \"CREATE TABLE healthcare (\"\n",
    "    \"appointment_id MEDIUMINT UNSIGNED PRIMARY KEY, \"\n",
    "    \"patient_id BIGINT UNSIGNED, \"\n",
    "    'gender ENUM(\"F\", \"M\"), '\n",
    "    \"scheduled_day DATETIME, \"\n",
    "    \"appointment_day DATETIME, \"\n",
    "    \"age TINYINT UNSIGNED, \"\n",
    "    \"neighbourhood VARCHAR(255), \"\n",
    "    \"scholarship BIT(1), \"\n",
    "    \"hypertension BIT(1), \"\n",
    "    \"diabetes BIT(1), \"\n",
    "    \"alcoholism BIT(1), \"\n",
    "    \"handicap TINYINT UNSIGNED, \"\n",
    "    \"sms_received BIT(1), \"\n",
    "    \"no_show BIT(1) \"\n",
    "    \");\"\n",
    ")"
   ]
  },
  {
   "cell_type": "code",
   "execution_count": 4,
   "id": "3b17fda7",
   "metadata": {},
   "outputs": [],
   "source": [
    "mycursor.execute(create_table_query)"
   ]
  },
  {
   "cell_type": "code",
   "execution_count": 5,
   "id": "b305b445",
   "metadata": {},
   "outputs": [
    {
     "data": {
      "text/plain": [
       "True"
      ]
     },
     "execution_count": 5,
     "metadata": {},
     "output_type": "execute_result"
    }
   ],
   "source": [
    "mycursor.close()"
   ]
  },
  {
   "cell_type": "markdown",
   "id": "53a28d19",
   "metadata": {},
   "source": [
    "Load data from CSV to SQL"
   ]
  },
  {
   "cell_type": "code",
   "execution_count": null,
   "id": "ed5af969",
   "metadata": {},
   "outputs": [
    {
     "name": "stdout",
     "output_type": "stream",
     "text": [
      "           PatientId  AppointmentID Gender          ScheduledDay        AppointmentDay  Age      Neighbourhood  Scholarship  Hipertension  Diabetes  Alcoholism  Handcap  SMS_received No-show\n",
      "0       2.987250e+13        5642903      F  2016-04-29T18:38:08Z  2016-04-29T00:00:00Z   62    JARDIM DA PENHA            0             1         0           0        0             0      No\n",
      "1       5.589978e+14        5642503      M  2016-04-29T16:08:27Z  2016-04-29T00:00:00Z   56    JARDIM DA PENHA            0             0         0           0        0             0      No\n",
      "2       4.262962e+12        5642549      F  2016-04-29T16:19:04Z  2016-04-29T00:00:00Z   62      MATA DA PRAIA            0             0         0           0        0             0      No\n",
      "3       8.679512e+11        5642828      F  2016-04-29T17:29:31Z  2016-04-29T00:00:00Z    8  PONTAL DE CAMBURI            0             0         0           0        0             0      No\n",
      "4       8.841186e+12        5642494      F  2016-04-29T16:07:23Z  2016-04-29T00:00:00Z   56    JARDIM DA PENHA            0             1         1           0        0             0      No\n",
      "...              ...            ...    ...                   ...                   ...  ...                ...          ...           ...       ...         ...      ...           ...     ...\n",
      "110522  2.572134e+12        5651768      F  2016-05-03T09:15:35Z  2016-06-07T00:00:00Z   56        MARIA ORTIZ            0             0         0           0        0             1      No\n",
      "110523  3.596266e+12        5650093      F  2016-05-03T07:27:33Z  2016-06-07T00:00:00Z   51        MARIA ORTIZ            0             0         0           0        0             1      No\n",
      "110524  1.557663e+13        5630692      F  2016-04-27T16:03:52Z  2016-06-07T00:00:00Z   21        MARIA ORTIZ            0             0         0           0        0             1      No\n",
      "110525  9.213493e+13        5630323      F  2016-04-27T15:09:23Z  2016-06-07T00:00:00Z   38        MARIA ORTIZ            0             0         0           0        0             1      No\n",
      "110526  3.775115e+14        5629448      F  2016-04-27T13:30:56Z  2016-06-07T00:00:00Z   54        MARIA ORTIZ            0             0         0           0        0             1      No\n",
      "\n",
      "[110527 rows x 14 columns]\n"
     ]
    }
   ],
   "source": [
    "file_path = \"../../data/healthcare_no_show/KaggleV2-May-2016.csv\"\n",
    "pd_data = pd.read_csv(file_path)\n",
    "print(pd_data)"
   ]
  },
  {
   "cell_type": "code",
   "execution_count": 7,
   "id": "a0713ad4",
   "metadata": {},
   "outputs": [
    {
     "name": "stdout",
     "output_type": "stream",
     "text": [
      "          patient_id  appointment_id gender         scheduled_day       appointment_day  age      neighbourhood  scholarship  hypertension  diabetes  alcoholism  handicap  sms_received no_show\n",
      "0       2.987250e+13         5642903      F  2016-04-29T18:38:08Z  2016-04-29T00:00:00Z   62    JARDIM DA PENHA            0             1         0           0         0             0      No\n",
      "1       5.589978e+14         5642503      M  2016-04-29T16:08:27Z  2016-04-29T00:00:00Z   56    JARDIM DA PENHA            0             0         0           0         0             0      No\n",
      "2       4.262962e+12         5642549      F  2016-04-29T16:19:04Z  2016-04-29T00:00:00Z   62      MATA DA PRAIA            0             0         0           0         0             0      No\n",
      "3       8.679512e+11         5642828      F  2016-04-29T17:29:31Z  2016-04-29T00:00:00Z    8  PONTAL DE CAMBURI            0             0         0           0         0             0      No\n",
      "4       8.841186e+12         5642494      F  2016-04-29T16:07:23Z  2016-04-29T00:00:00Z   56    JARDIM DA PENHA            0             1         1           0         0             0      No\n",
      "...              ...             ...    ...                   ...                   ...  ...                ...          ...           ...       ...         ...       ...           ...     ...\n",
      "110522  2.572134e+12         5651768      F  2016-05-03T09:15:35Z  2016-06-07T00:00:00Z   56        MARIA ORTIZ            0             0         0           0         0             1      No\n",
      "110523  3.596266e+12         5650093      F  2016-05-03T07:27:33Z  2016-06-07T00:00:00Z   51        MARIA ORTIZ            0             0         0           0         0             1      No\n",
      "110524  1.557663e+13         5630692      F  2016-04-27T16:03:52Z  2016-06-07T00:00:00Z   21        MARIA ORTIZ            0             0         0           0         0             1      No\n",
      "110525  9.213493e+13         5630323      F  2016-04-27T15:09:23Z  2016-06-07T00:00:00Z   38        MARIA ORTIZ            0             0         0           0         0             1      No\n",
      "110526  3.775115e+14         5629448      F  2016-04-27T13:30:56Z  2016-06-07T00:00:00Z   54        MARIA ORTIZ            0             0         0           0         0             1      No\n",
      "\n",
      "[110527 rows x 14 columns]\n"
     ]
    }
   ],
   "source": [
    "# Rename field names\n",
    "pd_data.rename(\n",
    "    columns={\n",
    "        \"PatientId\": \"patient_id\",\n",
    "        \"AppointmentID\": \"appointment_id\",\n",
    "        \"Gender\": \"gender\",\n",
    "        \"ScheduledDay\": \"scheduled_day\",\n",
    "        \"AppointmentDay\": \"appointment_day\",\n",
    "        \"Age\": \"age\",\n",
    "        \"Neighbourhood\": \"neighbourhood\",\n",
    "        \"Scholarship\": \"scholarship\",\n",
    "        \"Hipertension\": \"hypertension\",\n",
    "        \"Diabetes\": \"diabetes\",\n",
    "        \"Alcoholism\": \"alcoholism\",\n",
    "        \"Handcap\": \"handicap\",\n",
    "        \"SMS_received\": \"sms_received\",\n",
    "        \"No-show\": \"no_show\",\n",
    "    },\n",
    "    inplace=True,\n",
    ")\n",
    "print(pd_data)"
   ]
  },
  {
   "cell_type": "code",
   "execution_count": 8,
   "id": "b0fd7a62",
   "metadata": {},
   "outputs": [
    {
     "name": "stdout",
     "output_type": "stream",
     "text": [
      "             patient_id  appointment_id gender             scheduled_day           appointment_day   age      neighbourhood  scholarship  hypertension  diabetes  alcoholism  handicap  sms_received  no_show\n",
      "0        29872499824296         5642903      F 2016-04-29 18:38:08+00:00 2016-04-29 00:00:00+00:00  62.0    JARDIM DA PENHA            0             1         0           0         0             0        0\n",
      "1       558997776694438         5642503      M 2016-04-29 16:08:27+00:00 2016-04-29 00:00:00+00:00  56.0    JARDIM DA PENHA            0             0         0           0         0             0        0\n",
      "2         4262962299951         5642549      F 2016-04-29 16:19:04+00:00 2016-04-29 00:00:00+00:00  62.0      MATA DA PRAIA            0             0         0           0         0             0        0\n",
      "3          867951213174         5642828      F 2016-04-29 17:29:31+00:00 2016-04-29 00:00:00+00:00   8.0  PONTAL DE CAMBURI            0             0         0           0         0             0        0\n",
      "4         8841186448183         5642494      F 2016-04-29 16:07:23+00:00 2016-04-29 00:00:00+00:00  56.0    JARDIM DA PENHA            0             1         1           0         0             0        0\n",
      "...                 ...             ...    ...                       ...                       ...   ...                ...          ...           ...       ...         ...       ...           ...      ...\n",
      "110522    2572134369293         5651768      F 2016-05-03 09:15:35+00:00 2016-06-07 00:00:00+00:00  56.0        MARIA ORTIZ            0             0         0           0         0             1        0\n",
      "110523    3596266328735         5650093      F 2016-05-03 07:27:33+00:00 2016-06-07 00:00:00+00:00  51.0        MARIA ORTIZ            0             0         0           0         0             1        0\n",
      "110524   15576631729893         5630692      F 2016-04-27 16:03:52+00:00 2016-06-07 00:00:00+00:00  21.0        MARIA ORTIZ            0             0         0           0         0             1        0\n",
      "110525   92134931435557         5630323      F 2016-04-27 15:09:23+00:00 2016-06-07 00:00:00+00:00  38.0        MARIA ORTIZ            0             0         0           0         0             1        0\n",
      "110526  377511518121127         5629448      F 2016-04-27 13:30:56+00:00 2016-06-07 00:00:00+00:00  54.0        MARIA ORTIZ            0             0         0           0         0             1        0\n",
      "\n",
      "[110527 rows x 14 columns]\n"
     ]
    }
   ],
   "source": [
    "pd_data[\"patient_id\"] = pd_data[\"patient_id\"].astype(\"int64\")\n",
    "pd_data[\"scheduled_day\"] = pd.to_datetime(pd_data[\"scheduled_day\"])\n",
    "pd_data[\"appointment_day\"] = pd.to_datetime(pd_data[\"appointment_day\"])\n",
    "pd_data[\"age\"] = pd_data[\"age\"].apply(lambda x: x if x >= 0 else None)\n",
    "pd_data[\"no_show\"] = pd_data[\"no_show\"].apply(lambda x: 1 if x == \"Yes\" else 0)\n",
    "print(pd_data)"
   ]
  },
  {
   "cell_type": "code",
   "execution_count": 9,
   "id": "022ea2bb",
   "metadata": {},
   "outputs": [],
   "source": [
    "engine = sqlalchemy.create_engine(\n",
    "    f\"mysql+mysqlconnector://{os.getenv('USER')}:{os.getenv('PASSWORD')}@{os.getenv('HOST')}:3306/{os.getenv('DATABASE')}\"\n",
    ")"
   ]
  },
  {
   "cell_type": "code",
   "execution_count": 10,
   "id": "f07f319a",
   "metadata": {},
   "outputs": [
    {
     "data": {
      "text/plain": [
       "110527"
      ]
     },
     "execution_count": 10,
     "metadata": {},
     "output_type": "execute_result"
    }
   ],
   "source": [
    "pd_data.to_sql(name=\"healthcare\", con=engine, if_exists=\"append\", index=False)"
   ]
  },
  {
   "cell_type": "code",
   "execution_count": 11,
   "id": "2a45b407",
   "metadata": {},
   "outputs": [
    {
     "name": "stdout",
     "output_type": "stream",
     "text": [
      "[(5030230, 832256398961987, 'F', datetime.datetime(2015, 11, 10, 7, 13, 56), datetime.datetime(2016, 5, 4, 0, 0), 51, 'RESISTÊNCIA', 0, 0, 0, 0, 0, 1, 0), (5122866, 91637474953513, 'M', datetime.datetime(2015, 12, 3, 8, 17, 28), datetime.datetime(2016, 5, 2, 0, 0), 34, 'VILA RUBIM', 0, 1, 0, 0, 0, 1, 1), (5134197, 1216586867796, 'F', datetime.datetime(2015, 12, 7, 10, 40, 59), datetime.datetime(2016, 6, 3, 0, 0), 27, 'SÃO CRISTÓVÃO', 1, 0, 0, 0, 0, 1, 1), (5134220, 31899595421534, 'F', datetime.datetime(2015, 12, 7, 10, 42, 42), datetime.datetime(2016, 6, 3, 0, 0), 48, 'MARUÍPE', 0, 1, 1, 0, 0, 1, 0), (5134223, 9582232334148, 'F', datetime.datetime(2015, 12, 7, 10, 43, 1), datetime.datetime(2016, 6, 3, 0, 0), 80, 'SÃO CRISTÓVÃO', 0, 1, 1, 0, 0, 1, 0), (5134224, 3516253533716, 'F', datetime.datetime(2015, 12, 7, 10, 43, 17), datetime.datetime(2016, 6, 3, 0, 0), 74, 'SÃO CRISTÓVÃO', 0, 1, 1, 0, 0, 1, 0), (5134227, 454287126844, 'M', datetime.datetime(2015, 12, 7, 10, 43, 34), datetime.datetime(2016, 6, 3, 0, 0), 67, 'MARUÍPE', 0, 1, 1, 0, 0, 0, 0), (5134228, 941625887116382, 'F', datetime.datetime(2015, 12, 7, 10, 43, 50), datetime.datetime(2016, 6, 3, 0, 0), 77, 'SÃO CRISTÓVÃO', 0, 1, 1, 0, 0, 1, 0), (5134233, 351265918724495, 'M', datetime.datetime(2015, 12, 7, 10, 44, 7), datetime.datetime(2016, 6, 3, 0, 0), 73, 'MARUÍPE', 0, 1, 1, 0, 1, 0, 1), (5134239, 31123415579473, 'F', datetime.datetime(2015, 12, 7, 10, 44, 25), datetime.datetime(2016, 6, 3, 0, 0), 60, 'SÃO CRISTÓVÃO', 0, 1, 1, 0, 0, 1, 0)]\n"
     ]
    }
   ],
   "source": [
    "with engine.connect() as conn:\n",
    "    result = conn.execute(\n",
    "        sqlalchemy.text(\"SELECT * FROM healthcare LIMIT 10;\")\n",
    "    ).fetchall()\n",
    "\n",
    "print(result)"
   ]
  },
  {
   "cell_type": "code",
   "execution_count": 12,
   "id": "4f556ec7",
   "metadata": {},
   "outputs": [],
   "source": [
    "engine.dispose()"
   ]
  }
 ],
 "metadata": {
  "kernelspec": {
   "display_name": "forecasting-workflow",
   "language": "python",
   "name": "python3"
  },
  "language_info": {
   "codemirror_mode": {
    "name": "ipython",
    "version": 3
   },
   "file_extension": ".py",
   "mimetype": "text/x-python",
   "name": "python",
   "nbconvert_exporter": "python",
   "pygments_lexer": "ipython3",
   "version": "3.11.13"
  }
 },
 "nbformat": 4,
 "nbformat_minor": 5
}
