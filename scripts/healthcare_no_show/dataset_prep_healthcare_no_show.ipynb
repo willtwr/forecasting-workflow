{
 "cells": [
  {
   "cell_type": "markdown",
   "id": "22e49ee8",
   "metadata": {},
   "source": [
    "# Healthcare No Show Datasets Preparation\n",
    "\n",
    "Prepare datasets for model training. By default, will prepare 3 for cross validation."
   ]
  },
  {
   "cell_type": "code",
   "execution_count": null,
   "id": "c40d67ea",
   "metadata": {},
   "outputs": [],
   "source": [
    "import sys\n",
    "import os\n",
    "import dotenv\n",
    "import sqlalchemy\n",
    "import pandas as pd\n",
    "\n",
    "import torch\n",
    "from torch.utils.data import random_split\n",
    "import numpy as np\n",
    "\n",
    "from src.dataset import CustomDataset\n",
    "from src.utils import sort_pd_column\n",
    "\n",
    "sys.path.append(\"../..\")  # add src to path to import custom modules\n",
    "dotenv.load_dotenv()\n",
    "pd.set_option('display.expand_frame_repr', False)"
   ]
  },
  {
   "cell_type": "markdown",
   "id": "8717c854",
   "metadata": {},
   "source": [
    "## Load data from SQL to pandas"
   ]
  },
  {
   "cell_type": "code",
   "execution_count": 2,
   "id": "c412ca46",
   "metadata": {},
   "outputs": [],
   "source": [
    "engine = sqlalchemy.create_engine(\n",
    "    f\"mysql+mysqlconnector://{os.getenv('USER')}:{os.getenv('PASSWORD')}@{os.getenv('HOST')}:{os.getenv('PORT')}/{os.getenv('DATABASE')}\"\n",
    ")"
   ]
  },
  {
   "cell_type": "code",
   "execution_count": 3,
   "id": "9e03c3c9",
   "metadata": {},
   "outputs": [],
   "source": [
    "meta_data = sqlalchemy.MetaData()\n",
    "meta_data.reflect(bind=engine)\n",
    "HEALTHCARE = meta_data.tables['healthcare']\n",
    "query = sqlalchemy.select(\n",
    "    HEALTHCARE.c.gender,  # statistically no relationship\n",
    "    HEALTHCARE.c.scheduled_day,\n",
    "    HEALTHCARE.c.appointment_day,\n",
    "    HEALTHCARE.c.age,\n",
    "    # HEALTHCARE.c.neighbourhood,  # doesn't seem useful\n",
    "    HEALTHCARE.c.scholarship,\n",
    "    HEALTHCARE.c.hypertension,\n",
    "    HEALTHCARE.c.diabetes,\n",
    "    HEALTHCARE.c.alcoholism,  # statistically no relationship\n",
    "    HEALTHCARE.c.handicap,\n",
    "    HEALTHCARE.c.sms_received,\n",
    "    HEALTHCARE.c.no_show\n",
    ")"
   ]
  },
  {
   "cell_type": "code",
   "execution_count": 4,
   "id": "c549fb32",
   "metadata": {},
   "outputs": [
    {
     "name": "stdout",
     "output_type": "stream",
     "text": [
      "       gender       scheduled_day appointment_day   age  scholarship  hypertension  diabetes  alcoholism  handicap  sms_received  no_show\n",
      "0           F 2015-11-10 07:13:56      2016-05-04  51.0            0             0         0           0         0             1        0\n",
      "1           M 2015-12-03 08:17:28      2016-05-02  34.0            0             1         0           0         0             1        1\n",
      "2           F 2015-12-07 10:40:59      2016-06-03  27.0            1             0         0           0         0             1        1\n",
      "3           F 2015-12-07 10:42:42      2016-06-03  48.0            0             1         1           0         0             1        0\n",
      "4           F 2015-12-07 10:43:01      2016-06-03  80.0            0             1         1           0         0             1        0\n",
      "...       ...                 ...             ...   ...          ...           ...       ...         ...       ...           ...      ...\n",
      "110522      M 2016-06-08 19:32:25      2016-06-08  54.0            0             0         0           0         0             0        0\n",
      "110523      F 2016-06-08 19:32:56      2016-06-08  43.0            0             0         0           0         0             0        0\n",
      "110524      M 2016-06-08 19:33:23      2016-06-08  27.0            0             0         0           0         0             0        0\n",
      "110525      F 2016-06-08 19:58:52      2016-06-08  30.0            0             0         0           0         0             0        0\n",
      "110526      F 2016-06-08 20:07:23      2016-06-08  27.0            0             0         0           0         0             0        0\n",
      "\n",
      "[110527 rows x 11 columns]\n"
     ]
    }
   ],
   "source": [
    "df = pd.read_sql_query(query, engine)\n",
    "print(df)"
   ]
  },
  {
   "cell_type": "markdown",
   "id": "df074c20",
   "metadata": {},
   "source": [
    "## Data cleaning"
   ]
  },
  {
   "cell_type": "code",
   "execution_count": 5,
   "id": "2e0c1a9a",
   "metadata": {},
   "outputs": [
    {
     "name": "stdout",
     "output_type": "stream",
     "text": [
      "        gender       scheduled_day appointment_day   age  scholarship  hypertension  diabetes  alcoholism  handicap  sms_received  no_show\n",
      "0            1 2015-11-10 07:13:56      2016-05-04  51.0            0             0         0           0         0             1        0\n",
      "1            0 2015-12-03 08:17:28      2016-05-02  34.0            0             1         0           0         0             1        1\n",
      "2            1 2015-12-07 10:40:59      2016-06-03  27.0            1             0         0           0         0             1        1\n",
      "3            1 2015-12-07 10:42:42      2016-06-03  48.0            0             1         1           0         0             1        0\n",
      "4            1 2015-12-07 10:43:01      2016-06-03  80.0            0             1         1           0         0             1        0\n",
      "...        ...                 ...             ...   ...          ...           ...       ...         ...       ...           ...      ...\n",
      "110522       0 2016-06-08 19:32:25      2016-06-08  54.0            0             0         0           0         0             0        0\n",
      "110523       1 2016-06-08 19:32:56      2016-06-08  43.0            0             0         0           0         0             0        0\n",
      "110524       0 2016-06-08 19:33:23      2016-06-08  27.0            0             0         0           0         0             0        0\n",
      "110525       1 2016-06-08 19:58:52      2016-06-08  30.0            0             0         0           0         0             0        0\n",
      "110526       1 2016-06-08 20:07:23      2016-06-08  27.0            0             0         0           0         0             0        0\n",
      "\n",
      "[110527 rows x 11 columns]\n"
     ]
    }
   ],
   "source": [
    "# Gender\n",
    "df[\"gender\"] = df[\"gender\"].apply(lambda x: 1 if x == \"F\" else 0)\n",
    "print(df)"
   ]
  },
  {
   "cell_type": "code",
   "execution_count": 6,
   "id": "70f3fd8c",
   "metadata": {},
   "outputs": [
    {
     "name": "stdout",
     "output_type": "stream",
     "text": [
      "        gender scheduled_day appointment_day   age  scholarship  hypertension  diabetes  alcoholism  handicap  sms_received  no_show  lag_days\n",
      "0            1    2015-11-10      2016-05-04  51.0            0             0         0           0         0             1        0       176\n",
      "1            0    2015-12-03      2016-05-02  34.0            0             1         0           0         0             1        1       151\n",
      "2            1    2015-12-07      2016-06-03  27.0            1             0         0           0         0             1        1       179\n",
      "3            1    2015-12-07      2016-06-03  48.0            0             1         1           0         0             1        0       179\n",
      "4            1    2015-12-07      2016-06-03  80.0            0             1         1           0         0             1        0       179\n",
      "...        ...           ...             ...   ...          ...           ...       ...         ...       ...           ...      ...       ...\n",
      "110522       0    2016-06-08      2016-06-08  54.0            0             0         0           0         0             0        0         0\n",
      "110523       1    2016-06-08      2016-06-08  43.0            0             0         0           0         0             0        0         0\n",
      "110524       0    2016-06-08      2016-06-08  27.0            0             0         0           0         0             0        0         0\n",
      "110525       1    2016-06-08      2016-06-08  30.0            0             0         0           0         0             0        0         0\n",
      "110526       1    2016-06-08      2016-06-08  27.0            0             0         0           0         0             0        0         0\n",
      "\n",
      "[110522 rows x 12 columns]\n"
     ]
    }
   ],
   "source": [
    "# Lag days\n",
    "df[\"scheduled_day\"] = df[\"scheduled_day\"].dt.normalize()\n",
    "df[\"appointment_day\"] = df[\"appointment_day\"].dt.normalize()\n",
    "df[\"lag_days\"] = (df[\"appointment_day\"] - df[\"scheduled_day\"]).dt.days\n",
    "df = df[df[\"lag_days\"] >= 0]  # remove negative lag days as they are noises\n",
    "print(df)"
   ]
  },
  {
   "cell_type": "code",
   "execution_count": null,
   "id": "95f97410",
   "metadata": {},
   "outputs": [],
   "source": [
    "# Normalize lag days\n",
    "min_value = df[\"lag_days\"].min()\n",
    "max_value = df[\"lag_days\"].max()\n",
    "df[\"lag_days\"] = (df[\"lag_days\"] - min_value) / (max_value - min_value)\n",
    "print(df)"
   ]
  },
  {
   "cell_type": "code",
   "execution_count": 7,
   "id": "6f8b54b6",
   "metadata": {},
   "outputs": [
    {
     "name": "stdout",
     "output_type": "stream",
     "text": [
      "        gender scheduled_day appointment_day   age  scholarship  hypertension  diabetes  alcoholism  handicap  sms_received  no_show lag_days\n",
      "0            1    2015-11-10      2016-05-04  51.0            0             0         0           0         0             1        0        6\n",
      "1            0    2015-12-03      2016-05-02  34.0            0             1         0           0         0             1        1        6\n",
      "2            1    2015-12-07      2016-06-03  27.0            1             0         0           0         0             1        1        6\n",
      "3            1    2015-12-07      2016-06-03  48.0            0             1         1           0         0             1        0        6\n",
      "4            1    2015-12-07      2016-06-03  80.0            0             1         1           0         0             1        0        6\n",
      "...        ...           ...             ...   ...          ...           ...       ...         ...       ...           ...      ...      ...\n",
      "110522       0    2016-06-08      2016-06-08  54.0            0             0         0           0         0             0        0        0\n",
      "110523       1    2016-06-08      2016-06-08  43.0            0             0         0           0         0             0        0        0\n",
      "110524       0    2016-06-08      2016-06-08  27.0            0             0         0           0         0             0        0        0\n",
      "110525       1    2016-06-08      2016-06-08  30.0            0             0         0           0         0             0        0        0\n",
      "110526       1    2016-06-08      2016-06-08  27.0            0             0         0           0         0             0        0        0\n",
      "\n",
      "[110522 rows x 12 columns]\n"
     ]
    }
   ],
   "source": [
    "# Group lag days\n",
    "lag_days_ranges = {\n",
    "    \"same day\": 0.99,\n",
    "    \"7 days\": 7,\n",
    "    \"14 days\": 14,\n",
    "    \"30 days\": 30,\n",
    "    \"60 days\": 60,\n",
    "    \"90 days\": 90,\n",
    "    \">90 days\": 200\n",
    "}\n",
    "labels, bins = zip(*lag_days_ranges.items())\n",
    "df[\"lag_days\"] = pd.cut(df[\"lag_days\"], bins=(0,)+bins, labels=labels, include_lowest=True)\n",
    "lag_days_keys = list(lag_days_ranges.keys())\n",
    "df[\"lag_days\"] = df[\"lag_days\"].apply(lambda x: lag_days_keys.index(x))\n",
    "print(df)"
   ]
  },
  {
   "cell_type": "code",
   "execution_count": 8,
   "id": "604701c0",
   "metadata": {},
   "outputs": [
    {
     "name": "stdout",
     "output_type": "stream",
     "text": [
      "        gender scheduled_day appointment_day   age  scholarship  hypertension  diabetes  alcoholism  handicap  sms_received  no_show lag_days  dayofweek\n",
      "0            1    2015-11-10      2016-05-04  51.0            0             0         0           0         0             1        0        6          2\n",
      "1            0    2015-12-03      2016-05-02  34.0            0             1         0           0         0             1        1        6          0\n",
      "2            1    2015-12-07      2016-06-03  27.0            1             0         0           0         0             1        1        6          4\n",
      "3            1    2015-12-07      2016-06-03  48.0            0             1         1           0         0             1        0        6          4\n",
      "4            1    2015-12-07      2016-06-03  80.0            0             1         1           0         0             1        0        6          4\n",
      "...        ...           ...             ...   ...          ...           ...       ...         ...       ...           ...      ...      ...        ...\n",
      "110522       0    2016-06-08      2016-06-08  54.0            0             0         0           0         0             0        0        0          2\n",
      "110523       1    2016-06-08      2016-06-08  43.0            0             0         0           0         0             0        0        0          2\n",
      "110524       0    2016-06-08      2016-06-08  27.0            0             0         0           0         0             0        0        0          2\n",
      "110525       1    2016-06-08      2016-06-08  30.0            0             0         0           0         0             0        0        0          2\n",
      "110526       1    2016-06-08      2016-06-08  27.0            0             0         0           0         0             0        0        0          2\n",
      "\n",
      "[110522 rows x 13 columns]\n"
     ]
    }
   ],
   "source": [
    "# Day of week\n",
    "df[\"dayofweek\"] = df[\"appointment_day\"].dt.day_name()\n",
    "dayofweek_all = {\"Monday\": 0, \"Tuesday\": 1, \"Wednesday\": 2, \"Thursday\": 3, \"Friday\": 4, \"Saturday\": 5}\n",
    "df[\"dayofweek\"] = df[\"dayofweek\"].apply(lambda x: dayofweek_all[x])\n",
    "print(df)"
   ]
  },
  {
   "cell_type": "code",
   "execution_count": 9,
   "id": "4fe249bf",
   "metadata": {},
   "outputs": [
    {
     "name": "stdout",
     "output_type": "stream",
     "text": [
      "        gender   age  scholarship  hypertension  diabetes  alcoholism  handicap  sms_received  no_show lag_days  dayofweek\n",
      "0            1  51.0            0             0         0           0         0             1        0        6          2\n",
      "1            0  34.0            0             1         0           0         0             1        1        6          0\n",
      "2            1  27.0            1             0         0           0         0             1        1        6          4\n",
      "3            1  48.0            0             1         1           0         0             1        0        6          4\n",
      "4            1  80.0            0             1         1           0         0             1        0        6          4\n",
      "...        ...   ...          ...           ...       ...         ...       ...           ...      ...      ...        ...\n",
      "110522       0  54.0            0             0         0           0         0             0        0        0          2\n",
      "110523       1  43.0            0             0         0           0         0             0        0        0          2\n",
      "110524       0  27.0            0             0         0           0         0             0        0        0          2\n",
      "110525       1  30.0            0             0         0           0         0             0        0        0          2\n",
      "110526       1  27.0            0             0         0           0         0             0        0        0          2\n",
      "\n",
      "[110522 rows x 11 columns]\n"
     ]
    }
   ],
   "source": [
    "# Remove unused columns\n",
    "df.drop(columns=[\"scheduled_day\", \"appointment_day\"], inplace=True)\n",
    "print(df)"
   ]
  },
  {
   "cell_type": "code",
   "execution_count": 10,
   "id": "ac4ee455",
   "metadata": {},
   "outputs": [
    {
     "name": "stdout",
     "output_type": "stream",
     "text": [
      "        gender   age  scholarship  hypertension  diabetes  alcoholism  handicap  sms_received  no_show lag_days  dayofweek\n",
      "0            1  51.0            0             0         0           0         0             1        0        6          2\n",
      "1            0  34.0            0             1         0           0         0             1        1        6          0\n",
      "2            1  27.0            1             0         0           0         0             1        1        6          4\n",
      "3            1  48.0            0             1         1           0         0             1        0        6          4\n",
      "4            1  80.0            0             1         1           0         0             1        0        6          4\n",
      "...        ...   ...          ...           ...       ...         ...       ...           ...      ...      ...        ...\n",
      "110522       0  54.0            0             0         0           0         0             0        0        0          2\n",
      "110523       1  43.0            0             0         0           0         0             0        0        0          2\n",
      "110524       0  27.0            0             0         0           0         0             0        0        0          2\n",
      "110525       1  30.0            0             0         0           0         0             0        0        0          2\n",
      "110526       1  27.0            0             0         0           0         0             0        0        0          2\n",
      "\n",
      "[110521 rows x 11 columns]\n"
     ]
    }
   ],
   "source": [
    "# Age\n",
    "df = df[df[\"age\"] >= 0]  # remove rows with negative age, they are noises.\n",
    "print(df)"
   ]
  },
  {
   "cell_type": "code",
   "execution_count": null,
   "id": "1f35cc8a",
   "metadata": {},
   "outputs": [],
   "source": [
    "# Normalize age\n",
    "min_value = df[\"age\"].min()\n",
    "max_value = df[\"age\"].max()\n",
    "df[\"age\"] = (df[\"age\"] - min_value) / (max_value - min_value)\n",
    "print(df)"
   ]
  },
  {
   "cell_type": "code",
   "execution_count": 11,
   "id": "2e4b05f9",
   "metadata": {},
   "outputs": [
    {
     "name": "stdout",
     "output_type": "stream",
     "text": [
      "        gender age  scholarship  hypertension  diabetes  alcoholism  handicap  sms_received  no_show lag_days  dayofweek\n",
      "0            1   5            0             0         0           0         0             1        0        6          2\n",
      "1            0   4            0             1         0           0         0             1        1        6          0\n",
      "2            1   4            1             0         0           0         0             1        1        6          4\n",
      "3            1   5            0             1         1           0         0             1        0        6          4\n",
      "4            1   6            0             1         1           0         0             1        0        6          4\n",
      "...        ...  ..          ...           ...       ...         ...       ...           ...      ...      ...        ...\n",
      "110522       0   5            0             0         0           0         0             0        0        0          2\n",
      "110523       1   5            0             0         0           0         0             0        0        0          2\n",
      "110524       0   4            0             0         0           0         0             0        0        0          2\n",
      "110525       1   4            0             0         0           0         0             0        0        0          2\n",
      "110526       1   4            0             0         0           0         0             0        0        0          2\n",
      "\n",
      "[110521 rows x 11 columns]\n"
     ]
    }
   ],
   "source": [
    "# Group age\n",
    "age_ranges = {\n",
    "    \"Infant\": 1,\n",
    "    \"Toddler\": 4,\n",
    "    \"Child\": 12,\n",
    "    \"Teen\": 19,\n",
    "    \"Adult\": 39,\n",
    "    \"Middle\": 59,\n",
    "    \"Senior\": 120\n",
    "}\n",
    "labels, bins = zip(*age_ranges.items())\n",
    "df[\"age\"] = pd.cut(df[\"age\"], bins=(0,)+bins, labels=labels, include_lowest=True)\n",
    "age_keys = list(age_ranges.keys())\n",
    "df[\"age\"] = df[\"age\"].apply(lambda x: age_keys.index(x))\n",
    "print(df)"
   ]
  },
  {
   "cell_type": "code",
   "execution_count": null,
   "id": "436a9ef5",
   "metadata": {},
   "outputs": [],
   "source": [
    "# Neighbourhood\n",
    "cities = sorted(df[\"neighbourhood\"].unique())\n",
    "df[\"neighbourhood\"] = df[\"neighbourhood\"].apply(lambda x: cities.index(x))\n",
    "print(df)"
   ]
  },
  {
   "cell_type": "code",
   "execution_count": 12,
   "id": "c7ba4f8c",
   "metadata": {},
   "outputs": [
    {
     "name": "stdout",
     "output_type": "stream",
     "text": [
      "        gender age  scholarship  hypertension  diabetes  alcoholism  handicap  sms_received  no_show lag_days  dayofweek\n",
      "0            1   5            0             0         0           0         0             1        0        6          2\n",
      "1            0   4            0             1         0           0         0             1        1        6          0\n",
      "2            1   4            1             0         0           0         0             1        1        6          4\n",
      "3            1   5            0             1         1           0         0             1        0        6          4\n",
      "4            1   6            0             1         1           0         0             1        0        6          4\n",
      "...        ...  ..          ...           ...       ...         ...       ...           ...      ...      ...        ...\n",
      "110522       0   5            0             0         0           0         0             0        0        0          2\n",
      "110523       1   5            0             0         0           0         0             0        0        0          2\n",
      "110524       0   4            0             0         0           0         0             0        0        0          2\n",
      "110525       1   4            0             0         0           0         0             0        0        0          2\n",
      "110526       1   4            0             0         0           0         0             0        0        0          2\n",
      "\n",
      "[110521 rows x 11 columns]\n"
     ]
    }
   ],
   "source": [
    "# Normalize handicap to Y/N\n",
    "df[\"handicap\"] = df[\"handicap\"].apply(lambda x: 1 if x > 0 else 0)\n",
    "print(df)"
   ]
  },
  {
   "cell_type": "code",
   "execution_count": 13,
   "id": "2617b5a3",
   "metadata": {},
   "outputs": [],
   "source": [
    "cont_features = []"
   ]
  },
  {
   "cell_type": "code",
   "execution_count": null,
   "id": "c8d84156",
   "metadata": {},
   "outputs": [],
   "source": [
    "# Sort columns\n",
    "cont_features = [\"age\", \"lag_days\"]\n",
    "df = sort_pd_column(df, cont_features)\n",
    "print(df)"
   ]
  },
  {
   "cell_type": "code",
   "execution_count": 14,
   "id": "0c839dda",
   "metadata": {},
   "outputs": [
    {
     "name": "stdout",
     "output_type": "stream",
     "text": [
      "        gender age  scholarship  hypertension  diabetes  alcoholism  handicap  sms_received lag_days  dayofweek  no_show\n",
      "0            1   5            0             0         0           0         0             1        6          2        0\n",
      "1            0   4            0             1         0           0         0             1        6          0        1\n",
      "2            1   4            1             0         0           0         0             1        6          4        1\n",
      "3            1   5            0             1         1           0         0             1        6          4        0\n",
      "4            1   6            0             1         1           0         0             1        6          4        0\n",
      "...        ...  ..          ...           ...       ...         ...       ...           ...      ...        ...      ...\n",
      "110522       0   5            0             0         0           0         0             0        0          2        0\n",
      "110523       1   5            0             0         0           0         0             0        0          2        0\n",
      "110524       0   4            0             0         0           0         0             0        0          2        0\n",
      "110525       1   4            0             0         0           0         0             0        0          2        0\n",
      "110526       1   4            0             0         0           0         0             0        0          2        0\n",
      "\n",
      "[110521 rows x 11 columns]\n"
     ]
    }
   ],
   "source": [
    "df = sort_pd_column(df, [\"no_show\"], first=False)\n",
    "print(df)"
   ]
  },
  {
   "cell_type": "code",
   "execution_count": 16,
   "id": "bfadb479",
   "metadata": {},
   "outputs": [
    {
     "name": "stdout",
     "output_type": "stream",
     "text": [
      "       age  sms_received lag_days  dayofweek  no_show\n",
      "0        5             1        6          2        0\n",
      "1        4             1        6          0        1\n",
      "2        4             1        6          4        1\n",
      "3        5             1        6          4        0\n",
      "4        6             1        6          4        0\n",
      "...     ..           ...      ...        ...      ...\n",
      "110522   5             0        0          2        0\n",
      "110523   5             0        0          2        0\n",
      "110524   4             0        0          2        0\n",
      "110525   4             0        0          2        0\n",
      "110526   4             0        0          2        0\n",
      "\n",
      "[110521 rows x 5 columns]\n"
     ]
    }
   ],
   "source": [
    "df.drop(columns=[\"gender\", \"scholarship\", \"hypertension\", \"diabetes\", \"alcoholism\", \"handicap\"], inplace=True)\n",
    "print(df)"
   ]
  },
  {
   "cell_type": "markdown",
   "id": "60320cd3",
   "metadata": {},
   "source": [
    "## Create and Store Dataset"
   ]
  },
  {
   "cell_type": "code",
   "execution_count": 17,
   "id": "b0a53f0d",
   "metadata": {},
   "outputs": [],
   "source": [
    "def create_and_store_dataset(idx):\n",
    "    full_dataset = CustomDataset(df)\n",
    "    train_size = int(0.8 * len(full_dataset))\n",
    "    val_size = len(full_dataset) - train_size\n",
    "    train_dataset, val_dataset = random_split(full_dataset, [train_size, val_size])\n",
    "    labels = np.array([x[1].numpy() for x in train_dataset])\n",
    "    torch.save(\n",
    "        {\n",
    "            \"train_dataset\": train_dataset,\n",
    "            \"val_dataset\": val_dataset,\n",
    "            \"feature_cats\": [len(df[x].unique()) if x not in cont_features else -1 for x in df.columns[:-1]],\n",
    "            \"class_size\": len(df[df.columns[-1]].unique()),\n",
    "            \"class_weights\": [len(train_dataset) / (2 * sum(1 - labels)), len(train_dataset) / (2 * sum(labels))]\n",
    "        },\n",
    "        f\"../../data/healthcare_no_show/healthcare_datasets_reduced_{idx}.pt\"\n",
    "    )"
   ]
  },
  {
   "cell_type": "code",
   "execution_count": 18,
   "id": "880068a0",
   "metadata": {},
   "outputs": [
    {
     "name": "stdout",
     "output_type": "stream",
     "text": [
      "Dataset 1/3 created and stored.\n",
      "Dataset 2/3 created and stored.\n",
      "Dataset 3/3 created and stored.\n"
     ]
    }
   ],
   "source": [
    "n_cross_val = 3\n",
    "for i in range(n_cross_val):\n",
    "    create_and_store_dataset(i)\n",
    "    print(f\"Dataset {i+1}/{n_cross_val} created and stored.\")"
   ]
  }
 ],
 "metadata": {
  "kernelspec": {
   "display_name": "forecast",
   "language": "python",
   "name": "python3"
  },
  "language_info": {
   "codemirror_mode": {
    "name": "ipython",
    "version": 3
   },
   "file_extension": ".py",
   "mimetype": "text/x-python",
   "name": "python",
   "nbconvert_exporter": "python",
   "pygments_lexer": "ipython3",
   "version": "3.11.11"
  }
 },
 "nbformat": 4,
 "nbformat_minor": 5
}
