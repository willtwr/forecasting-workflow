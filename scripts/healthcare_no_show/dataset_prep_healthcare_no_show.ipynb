{
 "cells": [
  {
   "cell_type": "markdown",
   "id": "22e49ee8",
   "metadata": {},
   "source": [
    "# Healthcare No Show Datasets Preparation\n",
    "\n",
    "Prepare datasets for model training. By default, will prepare 3 for cross validation."
   ]
  },
  {
   "cell_type": "code",
   "execution_count": 22,
   "id": "c40d67ea",
   "metadata": {},
   "outputs": [],
   "source": [
    "import sys\n",
    "sys.path.append(\"../..\")  # add src to path to import custom modules\n",
    "\n",
    "import os\n",
    "import dotenv\n",
    "dotenv.load_dotenv()\n",
    "\n",
    "import sqlalchemy\n",
    "import pandas as pd\n",
    "pd.set_option('display.expand_frame_repr', False)\n",
    "\n",
    "import torch\n",
    "from torch.utils.data import random_split\n",
    "from src.dataset import CustomDataset"
   ]
  },
  {
   "cell_type": "markdown",
   "id": "8717c854",
   "metadata": {},
   "source": [
    "## Load data from SQL to pandas"
   ]
  },
  {
   "cell_type": "code",
   "execution_count": 2,
   "id": "c412ca46",
   "metadata": {},
   "outputs": [],
   "source": [
    "engine = sqlalchemy.create_engine(\n",
    "    f\"mysql+mysqlconnector://{os.getenv('USER')}:{os.getenv('PASSWORD')}@{os.getenv('HOST')}:{os.getenv('PORT')}/{os.getenv('DATABASE')}\"\n",
    ")"
   ]
  },
  {
   "cell_type": "code",
   "execution_count": 3,
   "id": "9e03c3c9",
   "metadata": {},
   "outputs": [],
   "source": [
    "meta_data = sqlalchemy.MetaData()\n",
    "meta_data.reflect(bind=engine)\n",
    "HEALTHCARE = meta_data.tables['healthcare']\n",
    "query = sqlalchemy.select(\n",
    "    HEALTHCARE.c.gender,\n",
    "    HEALTHCARE.c.scheduled_day,\n",
    "    HEALTHCARE.c.appointment_day,\n",
    "    HEALTHCARE.c.age,\n",
    "    HEALTHCARE.c.neighbourhood,\n",
    "    HEALTHCARE.c.scholarship,\n",
    "    HEALTHCARE.c.hypertension,\n",
    "    HEALTHCARE.c.diabetes,\n",
    "    HEALTHCARE.c.alcoholism,\n",
    "    HEALTHCARE.c.handicap,\n",
    "    HEALTHCARE.c.sms_received,\n",
    "    HEALTHCARE.c.no_show\n",
    ")"
   ]
  },
  {
   "cell_type": "code",
   "execution_count": 4,
   "id": "c549fb32",
   "metadata": {},
   "outputs": [
    {
     "name": "stdout",
     "output_type": "stream",
     "text": [
      "       gender       scheduled_day appointment_day   age   neighbourhood  scholarship  hypertension  diabetes  alcoholism  handicap  sms_received  no_show\n",
      "0           F 2015-11-10 07:13:56      2016-05-04  51.0     RESISTÊNCIA            0             0         0           0         0             1        0\n",
      "1           M 2015-12-03 08:17:28      2016-05-02  34.0      VILA RUBIM            0             1         0           0         0             1        1\n",
      "2           F 2015-12-07 10:40:59      2016-06-03  27.0   SÃO CRISTÓVÃO            1             0         0           0         0             1        1\n",
      "3           F 2015-12-07 10:42:42      2016-06-03  48.0         MARUÍPE            0             1         1           0         0             1        0\n",
      "4           F 2015-12-07 10:43:01      2016-06-03  80.0   SÃO CRISTÓVÃO            0             1         1           0         0             1        0\n",
      "...       ...                 ...             ...   ...             ...          ...           ...       ...         ...       ...           ...      ...\n",
      "110522      M 2016-06-08 19:32:25      2016-06-08  54.0  JARDIM CAMBURI            0             0         0           0         0             0        0\n",
      "110523      F 2016-06-08 19:32:56      2016-06-08  43.0  JARDIM CAMBURI            0             0         0           0         0             0        0\n",
      "110524      M 2016-06-08 19:33:23      2016-06-08  27.0  JARDIM CAMBURI            0             0         0           0         0             0        0\n",
      "110525      F 2016-06-08 19:58:52      2016-06-08  30.0  JARDIM CAMBURI            0             0         0           0         0             0        0\n",
      "110526      F 2016-06-08 20:07:23      2016-06-08  27.0  JARDIM CAMBURI            0             0         0           0         0             0        0\n",
      "\n",
      "[110527 rows x 12 columns]\n"
     ]
    }
   ],
   "source": [
    "df = pd.read_sql_query(query, engine)\n",
    "print(df)"
   ]
  },
  {
   "cell_type": "markdown",
   "id": "df074c20",
   "metadata": {},
   "source": [
    "## Data cleaning\n",
    "\n",
    "Data representations for machine learning:\n",
    "1. patient_id\n",
    "    - no need\n",
    "2. appointment_id\n",
    "    - no need\n",
    "3. gender\n",
    "    - encode as a binary with 0 as male and 1 as female\n",
    "4. scheduled_day\n",
    "    - calculate lag days with appointment_day, then group them into [\"same day\", \"7 days\", \"14 days\", \"30 days\", \"60 days\", \"90 days\", \">90 days\"], and use one-hot encoding\n",
    "5. appointment_day\n",
    "    - see scheduled_day\n",
    "    - Also, convert to day of week\n",
    "6. age\n",
    "    - remove negatives\n",
    "    - group into [\"Infant\", \"Toddler\", \"Child\", \"Teen\", \"Adult\", \"Middle\", \"Senior\"] and use one-hot encoding\n",
    "7. neighbourhood\n",
    "    - one-hot encoding\n",
    "8. scholarship\n",
    "    - binary\n",
    "9. hypertension\n",
    "    - binary\n",
    "10. diabetes\n",
    "    - binary\n",
    "11. alcoholism\n",
    "    - binary\n",
    "12. handicap\n",
    "    - one-hot encoding\n",
    "13. sms_received\n",
    "    - binary\n",
    "14. no_show (this is the output)\n",
    "    - binary"
   ]
  },
  {
   "cell_type": "code",
   "execution_count": 5,
   "id": "2e0c1a9a",
   "metadata": {},
   "outputs": [
    {
     "name": "stdout",
     "output_type": "stream",
     "text": [
      "        gender       scheduled_day appointment_day   age   neighbourhood  scholarship  hypertension  diabetes  alcoholism  handicap  sms_received  no_show\n",
      "0            1 2015-11-10 07:13:56      2016-05-04  51.0     RESISTÊNCIA            0             0         0           0         0             1        0\n",
      "1            0 2015-12-03 08:17:28      2016-05-02  34.0      VILA RUBIM            0             1         0           0         0             1        1\n",
      "2            1 2015-12-07 10:40:59      2016-06-03  27.0   SÃO CRISTÓVÃO            1             0         0           0         0             1        1\n",
      "3            1 2015-12-07 10:42:42      2016-06-03  48.0         MARUÍPE            0             1         1           0         0             1        0\n",
      "4            1 2015-12-07 10:43:01      2016-06-03  80.0   SÃO CRISTÓVÃO            0             1         1           0         0             1        0\n",
      "...        ...                 ...             ...   ...             ...          ...           ...       ...         ...       ...           ...      ...\n",
      "110522       0 2016-06-08 19:32:25      2016-06-08  54.0  JARDIM CAMBURI            0             0         0           0         0             0        0\n",
      "110523       1 2016-06-08 19:32:56      2016-06-08  43.0  JARDIM CAMBURI            0             0         0           0         0             0        0\n",
      "110524       0 2016-06-08 19:33:23      2016-06-08  27.0  JARDIM CAMBURI            0             0         0           0         0             0        0\n",
      "110525       1 2016-06-08 19:58:52      2016-06-08  30.0  JARDIM CAMBURI            0             0         0           0         0             0        0\n",
      "110526       1 2016-06-08 20:07:23      2016-06-08  27.0  JARDIM CAMBURI            0             0         0           0         0             0        0\n",
      "\n",
      "[110527 rows x 12 columns]\n"
     ]
    }
   ],
   "source": [
    "df[\"gender\"] = df[\"gender\"].apply(lambda x: 1 if x == \"F\" else 0)\n",
    "print(df)"
   ]
  },
  {
   "cell_type": "code",
   "execution_count": 6,
   "id": "70f3fd8c",
   "metadata": {},
   "outputs": [
    {
     "name": "stdout",
     "output_type": "stream",
     "text": [
      "        gender scheduled_day appointment_day   age   neighbourhood  scholarship  hypertension  diabetes  alcoholism  handicap  sms_received  no_show  lag_days\n",
      "0            1    2015-11-10      2016-05-04  51.0     RESISTÊNCIA            0             0         0           0         0             1        0       176\n",
      "1            0    2015-12-03      2016-05-02  34.0      VILA RUBIM            0             1         0           0         0             1        1       151\n",
      "2            1    2015-12-07      2016-06-03  27.0   SÃO CRISTÓVÃO            1             0         0           0         0             1        1       179\n",
      "3            1    2015-12-07      2016-06-03  48.0         MARUÍPE            0             1         1           0         0             1        0       179\n",
      "4            1    2015-12-07      2016-06-03  80.0   SÃO CRISTÓVÃO            0             1         1           0         0             1        0       179\n",
      "...        ...           ...             ...   ...             ...          ...           ...       ...         ...       ...           ...      ...       ...\n",
      "110522       0    2016-06-08      2016-06-08  54.0  JARDIM CAMBURI            0             0         0           0         0             0        0         0\n",
      "110523       1    2016-06-08      2016-06-08  43.0  JARDIM CAMBURI            0             0         0           0         0             0        0         0\n",
      "110524       0    2016-06-08      2016-06-08  27.0  JARDIM CAMBURI            0             0         0           0         0             0        0         0\n",
      "110525       1    2016-06-08      2016-06-08  30.0  JARDIM CAMBURI            0             0         0           0         0             0        0         0\n",
      "110526       1    2016-06-08      2016-06-08  27.0  JARDIM CAMBURI            0             0         0           0         0             0        0         0\n",
      "\n",
      "[110527 rows x 13 columns]\n"
     ]
    }
   ],
   "source": [
    "df[\"scheduled_day\"] = df[\"scheduled_day\"].dt.normalize()\n",
    "df[\"appointment_day\"] = df[\"appointment_day\"].dt.normalize()\n",
    "df[\"lag_days\"] = (df[\"appointment_day\"] - df[\"scheduled_day\"]).dt.days\n",
    "print(df)"
   ]
  },
  {
   "cell_type": "code",
   "execution_count": 7,
   "id": "6f8b54b6",
   "metadata": {},
   "outputs": [
    {
     "name": "stdout",
     "output_type": "stream",
     "text": [
      "        gender scheduled_day appointment_day   age   neighbourhood  scholarship  hypertension  diabetes  alcoholism  handicap  sms_received  no_show  lag_days lag_days_bins\n",
      "0            1    2015-11-10      2016-05-04  51.0     RESISTÊNCIA            0             0         0           0         0             1        0       176      >90 days\n",
      "1            0    2015-12-03      2016-05-02  34.0      VILA RUBIM            0             1         0           0         0             1        1       151      >90 days\n",
      "2            1    2015-12-07      2016-06-03  27.0   SÃO CRISTÓVÃO            1             0         0           0         0             1        1       179      >90 days\n",
      "3            1    2015-12-07      2016-06-03  48.0         MARUÍPE            0             1         1           0         0             1        0       179      >90 days\n",
      "4            1    2015-12-07      2016-06-03  80.0   SÃO CRISTÓVÃO            0             1         1           0         0             1        0       179      >90 days\n",
      "...        ...           ...             ...   ...             ...          ...           ...       ...         ...       ...           ...      ...       ...           ...\n",
      "110522       0    2016-06-08      2016-06-08  54.0  JARDIM CAMBURI            0             0         0           0         0             0        0         0      same day\n",
      "110523       1    2016-06-08      2016-06-08  43.0  JARDIM CAMBURI            0             0         0           0         0             0        0         0      same day\n",
      "110524       0    2016-06-08      2016-06-08  27.0  JARDIM CAMBURI            0             0         0           0         0             0        0         0      same day\n",
      "110525       1    2016-06-08      2016-06-08  30.0  JARDIM CAMBURI            0             0         0           0         0             0        0         0      same day\n",
      "110526       1    2016-06-08      2016-06-08  27.0  JARDIM CAMBURI            0             0         0           0         0             0        0         0      same day\n",
      "\n",
      "[110527 rows x 14 columns]\n"
     ]
    }
   ],
   "source": [
    "lag_days_ranges = {\n",
    "    \"same day\": 0.99,\n",
    "    \"7 days\": 7,\n",
    "    \"14 days\": 14,\n",
    "    \"30 days\": 30,\n",
    "    \"60 days\": 60,\n",
    "    \"90 days\": 90,\n",
    "    \">90 days\": 200\n",
    "}\n",
    "labels, bins = zip(*lag_days_ranges.items())\n",
    "df[\"lag_days_bins\"] = pd.cut(df[\"lag_days\"], bins=(0,)+bins, labels=labels, include_lowest=True)\n",
    "print(df)"
   ]
  },
  {
   "cell_type": "code",
   "execution_count": 8,
   "id": "c2eb3150",
   "metadata": {},
   "outputs": [
    {
     "name": "stdout",
     "output_type": "stream",
     "text": [
      "        gender scheduled_day appointment_day   age   neighbourhood  scholarship  hypertension  diabetes  alcoholism  handicap  sms_received  no_show  lag_days lag_days_bins\n",
      "0            1    2015-11-10      2016-05-04  51.0     RESISTÊNCIA            0             0         0           0         0             1        0       176             6\n",
      "1            0    2015-12-03      2016-05-02  34.0      VILA RUBIM            0             1         0           0         0             1        1       151             6\n",
      "2            1    2015-12-07      2016-06-03  27.0   SÃO CRISTÓVÃO            1             0         0           0         0             1        1       179             6\n",
      "3            1    2015-12-07      2016-06-03  48.0         MARUÍPE            0             1         1           0         0             1        0       179             6\n",
      "4            1    2015-12-07      2016-06-03  80.0   SÃO CRISTÓVÃO            0             1         1           0         0             1        0       179             6\n",
      "...        ...           ...             ...   ...             ...          ...           ...       ...         ...       ...           ...      ...       ...           ...\n",
      "110522       0    2016-06-08      2016-06-08  54.0  JARDIM CAMBURI            0             0         0           0         0             0        0         0             0\n",
      "110523       1    2016-06-08      2016-06-08  43.0  JARDIM CAMBURI            0             0         0           0         0             0        0         0             0\n",
      "110524       0    2016-06-08      2016-06-08  27.0  JARDIM CAMBURI            0             0         0           0         0             0        0         0             0\n",
      "110525       1    2016-06-08      2016-06-08  30.0  JARDIM CAMBURI            0             0         0           0         0             0        0         0             0\n",
      "110526       1    2016-06-08      2016-06-08  27.0  JARDIM CAMBURI            0             0         0           0         0             0        0         0             0\n",
      "\n",
      "[110527 rows x 14 columns]\n"
     ]
    }
   ],
   "source": [
    "lag_days_keys = list(lag_days_ranges.keys())\n",
    "df[\"lag_days_bins\"] = df[\"lag_days_bins\"].apply(lambda x: lag_days_keys.index(x))\n",
    "print(df)"
   ]
  },
  {
   "cell_type": "code",
   "execution_count": 9,
   "id": "604701c0",
   "metadata": {},
   "outputs": [
    {
     "name": "stdout",
     "output_type": "stream",
     "text": [
      "        gender scheduled_day appointment_day   age   neighbourhood  scholarship  hypertension  diabetes  alcoholism  handicap  sms_received  no_show  lag_days lag_days_bins  dayofweek\n",
      "0            1    2015-11-10      2016-05-04  51.0     RESISTÊNCIA            0             0         0           0         0             1        0       176             6  Wednesday\n",
      "1            0    2015-12-03      2016-05-02  34.0      VILA RUBIM            0             1         0           0         0             1        1       151             6     Monday\n",
      "2            1    2015-12-07      2016-06-03  27.0   SÃO CRISTÓVÃO            1             0         0           0         0             1        1       179             6     Friday\n",
      "3            1    2015-12-07      2016-06-03  48.0         MARUÍPE            0             1         1           0         0             1        0       179             6     Friday\n",
      "4            1    2015-12-07      2016-06-03  80.0   SÃO CRISTÓVÃO            0             1         1           0         0             1        0       179             6     Friday\n",
      "...        ...           ...             ...   ...             ...          ...           ...       ...         ...       ...           ...      ...       ...           ...        ...\n",
      "110522       0    2016-06-08      2016-06-08  54.0  JARDIM CAMBURI            0             0         0           0         0             0        0         0             0  Wednesday\n",
      "110523       1    2016-06-08      2016-06-08  43.0  JARDIM CAMBURI            0             0         0           0         0             0        0         0             0  Wednesday\n",
      "110524       0    2016-06-08      2016-06-08  27.0  JARDIM CAMBURI            0             0         0           0         0             0        0         0             0  Wednesday\n",
      "110525       1    2016-06-08      2016-06-08  30.0  JARDIM CAMBURI            0             0         0           0         0             0        0         0             0  Wednesday\n",
      "110526       1    2016-06-08      2016-06-08  27.0  JARDIM CAMBURI            0             0         0           0         0             0        0         0             0  Wednesday\n",
      "\n",
      "[110527 rows x 15 columns]\n"
     ]
    }
   ],
   "source": [
    "df[\"dayofweek\"] = df[\"appointment_day\"].dt.day_name()\n",
    "print(df)"
   ]
  },
  {
   "cell_type": "code",
   "execution_count": 10,
   "id": "598c6cdf",
   "metadata": {},
   "outputs": [
    {
     "name": "stdout",
     "output_type": "stream",
     "text": [
      "        gender scheduled_day appointment_day   age   neighbourhood  scholarship  hypertension  diabetes  alcoholism  handicap  sms_received  no_show  lag_days lag_days_bins  dayofweek\n",
      "0            1    2015-11-10      2016-05-04  51.0     RESISTÊNCIA            0             0         0           0         0             1        0       176             6          2\n",
      "1            0    2015-12-03      2016-05-02  34.0      VILA RUBIM            0             1         0           0         0             1        1       151             6          0\n",
      "2            1    2015-12-07      2016-06-03  27.0   SÃO CRISTÓVÃO            1             0         0           0         0             1        1       179             6          4\n",
      "3            1    2015-12-07      2016-06-03  48.0         MARUÍPE            0             1         1           0         0             1        0       179             6          4\n",
      "4            1    2015-12-07      2016-06-03  80.0   SÃO CRISTÓVÃO            0             1         1           0         0             1        0       179             6          4\n",
      "...        ...           ...             ...   ...             ...          ...           ...       ...         ...       ...           ...      ...       ...           ...        ...\n",
      "110522       0    2016-06-08      2016-06-08  54.0  JARDIM CAMBURI            0             0         0           0         0             0        0         0             0          2\n",
      "110523       1    2016-06-08      2016-06-08  43.0  JARDIM CAMBURI            0             0         0           0         0             0        0         0             0          2\n",
      "110524       0    2016-06-08      2016-06-08  27.0  JARDIM CAMBURI            0             0         0           0         0             0        0         0             0          2\n",
      "110525       1    2016-06-08      2016-06-08  30.0  JARDIM CAMBURI            0             0         0           0         0             0        0         0             0          2\n",
      "110526       1    2016-06-08      2016-06-08  27.0  JARDIM CAMBURI            0             0         0           0         0             0        0         0             0          2\n",
      "\n",
      "[110527 rows x 15 columns]\n"
     ]
    }
   ],
   "source": [
    "dayofweek_all = {\"Monday\": 0, \"Tuesday\": 1, \"Wednesday\": 2, \"Thursday\": 3, \"Friday\": 4, \"Saturday\": 5}\n",
    "df[\"dayofweek\"] = df[\"dayofweek\"].apply(lambda x: dayofweek_all[x])\n",
    "print(df)"
   ]
  },
  {
   "cell_type": "code",
   "execution_count": 11,
   "id": "8e1bbc34",
   "metadata": {},
   "outputs": [
    {
     "name": "stdout",
     "output_type": "stream",
     "text": [
      "        gender   age   neighbourhood  scholarship  hypertension  diabetes  alcoholism  handicap  sms_received  no_show lag_days_bins  dayofweek\n",
      "0            1  51.0     RESISTÊNCIA            0             0         0           0         0             1        0             6          2\n",
      "1            0  34.0      VILA RUBIM            0             1         0           0         0             1        1             6          0\n",
      "2            1  27.0   SÃO CRISTÓVÃO            1             0         0           0         0             1        1             6          4\n",
      "3            1  48.0         MARUÍPE            0             1         1           0         0             1        0             6          4\n",
      "4            1  80.0   SÃO CRISTÓVÃO            0             1         1           0         0             1        0             6          4\n",
      "...        ...   ...             ...          ...           ...       ...         ...       ...           ...      ...           ...        ...\n",
      "110522       0  54.0  JARDIM CAMBURI            0             0         0           0         0             0        0             0          2\n",
      "110523       1  43.0  JARDIM CAMBURI            0             0         0           0         0             0        0             0          2\n",
      "110524       0  27.0  JARDIM CAMBURI            0             0         0           0         0             0        0             0          2\n",
      "110525       1  30.0  JARDIM CAMBURI            0             0         0           0         0             0        0             0          2\n",
      "110526       1  27.0  JARDIM CAMBURI            0             0         0           0         0             0        0             0          2\n",
      "\n",
      "[110527 rows x 12 columns]\n"
     ]
    }
   ],
   "source": [
    "df.drop(columns=[\"scheduled_day\", \"appointment_day\", \"lag_days\"], inplace=True)\n",
    "print(df)"
   ]
  },
  {
   "cell_type": "code",
   "execution_count": 12,
   "id": "ac4ee455",
   "metadata": {},
   "outputs": [
    {
     "name": "stdout",
     "output_type": "stream",
     "text": [
      "        gender   age   neighbourhood  scholarship  hypertension  diabetes  alcoholism  handicap  sms_received  no_show lag_days_bins  dayofweek\n",
      "0            1  51.0     RESISTÊNCIA            0             0         0           0         0             1        0             6          2\n",
      "1            0  34.0      VILA RUBIM            0             1         0           0         0             1        1             6          0\n",
      "2            1  27.0   SÃO CRISTÓVÃO            1             0         0           0         0             1        1             6          4\n",
      "3            1  48.0         MARUÍPE            0             1         1           0         0             1        0             6          4\n",
      "4            1  80.0   SÃO CRISTÓVÃO            0             1         1           0         0             1        0             6          4\n",
      "...        ...   ...             ...          ...           ...       ...         ...       ...           ...      ...           ...        ...\n",
      "110522       0  54.0  JARDIM CAMBURI            0             0         0           0         0             0        0             0          2\n",
      "110523       1  43.0  JARDIM CAMBURI            0             0         0           0         0             0        0             0          2\n",
      "110524       0  27.0  JARDIM CAMBURI            0             0         0           0         0             0        0             0          2\n",
      "110525       1  30.0  JARDIM CAMBURI            0             0         0           0         0             0        0             0          2\n",
      "110526       1  27.0  JARDIM CAMBURI            0             0         0           0         0             0        0             0          2\n",
      "\n",
      "[110526 rows x 12 columns]\n"
     ]
    }
   ],
   "source": [
    "df = df[df[\"age\"] >= 0]\n",
    "print(df)"
   ]
  },
  {
   "cell_type": "code",
   "execution_count": 13,
   "id": "2e4b05f9",
   "metadata": {},
   "outputs": [
    {
     "name": "stdout",
     "output_type": "stream",
     "text": [
      "        gender   age   neighbourhood  scholarship  hypertension  diabetes  alcoholism  handicap  sms_received  no_show lag_days_bins  dayofweek age_group\n",
      "0            1  51.0     RESISTÊNCIA            0             0         0           0         0             1        0             6          2    Middle\n",
      "1            0  34.0      VILA RUBIM            0             1         0           0         0             1        1             6          0     Adult\n",
      "2            1  27.0   SÃO CRISTÓVÃO            1             0         0           0         0             1        1             6          4     Adult\n",
      "3            1  48.0         MARUÍPE            0             1         1           0         0             1        0             6          4    Middle\n",
      "4            1  80.0   SÃO CRISTÓVÃO            0             1         1           0         0             1        0             6          4    Senior\n",
      "...        ...   ...             ...          ...           ...       ...         ...       ...           ...      ...           ...        ...       ...\n",
      "110522       0  54.0  JARDIM CAMBURI            0             0         0           0         0             0        0             0          2    Middle\n",
      "110523       1  43.0  JARDIM CAMBURI            0             0         0           0         0             0        0             0          2    Middle\n",
      "110524       0  27.0  JARDIM CAMBURI            0             0         0           0         0             0        0             0          2     Adult\n",
      "110525       1  30.0  JARDIM CAMBURI            0             0         0           0         0             0        0             0          2     Adult\n",
      "110526       1  27.0  JARDIM CAMBURI            0             0         0           0         0             0        0             0          2     Adult\n",
      "\n",
      "[110526 rows x 13 columns]\n"
     ]
    }
   ],
   "source": [
    "age_ranges = {\n",
    "    \"Infant\": 1,\n",
    "    \"Toddler\": 4,\n",
    "    \"Child\": 12,\n",
    "    \"Teen\": 19,\n",
    "    \"Adult\": 39,\n",
    "    \"Middle\": 59,\n",
    "    \"Senior\": 120\n",
    "}\n",
    "labels, bins = zip(*age_ranges.items())\n",
    "df[\"age_group\"] = pd.cut(df[\"age\"], bins=(0,)+bins, labels=labels, include_lowest=True)\n",
    "print(df)"
   ]
  },
  {
   "cell_type": "code",
   "execution_count": 14,
   "id": "7b7fa4ba",
   "metadata": {},
   "outputs": [
    {
     "name": "stdout",
     "output_type": "stream",
     "text": [
      "        gender   age   neighbourhood  scholarship  hypertension  diabetes  alcoholism  handicap  sms_received  no_show lag_days_bins  dayofweek age_group\n",
      "0            1  51.0     RESISTÊNCIA            0             0         0           0         0             1        0             6          2         5\n",
      "1            0  34.0      VILA RUBIM            0             1         0           0         0             1        1             6          0         4\n",
      "2            1  27.0   SÃO CRISTÓVÃO            1             0         0           0         0             1        1             6          4         4\n",
      "3            1  48.0         MARUÍPE            0             1         1           0         0             1        0             6          4         5\n",
      "4            1  80.0   SÃO CRISTÓVÃO            0             1         1           0         0             1        0             6          4         6\n",
      "...        ...   ...             ...          ...           ...       ...         ...       ...           ...      ...           ...        ...       ...\n",
      "110522       0  54.0  JARDIM CAMBURI            0             0         0           0         0             0        0             0          2         5\n",
      "110523       1  43.0  JARDIM CAMBURI            0             0         0           0         0             0        0             0          2         5\n",
      "110524       0  27.0  JARDIM CAMBURI            0             0         0           0         0             0        0             0          2         4\n",
      "110525       1  30.0  JARDIM CAMBURI            0             0         0           0         0             0        0             0          2         4\n",
      "110526       1  27.0  JARDIM CAMBURI            0             0         0           0         0             0        0             0          2         4\n",
      "\n",
      "[110526 rows x 13 columns]\n"
     ]
    }
   ],
   "source": [
    "age_keys = list(age_ranges.keys())\n",
    "df[\"age_group\"] = df[\"age_group\"].apply(lambda x: age_keys.index(x))\n",
    "print(df)"
   ]
  },
  {
   "cell_type": "code",
   "execution_count": 15,
   "id": "7c253f80",
   "metadata": {},
   "outputs": [
    {
     "name": "stdout",
     "output_type": "stream",
     "text": [
      "        gender   neighbourhood  scholarship  hypertension  diabetes  alcoholism  handicap  sms_received  no_show lag_days_bins  dayofweek age_group\n",
      "0            1     RESISTÊNCIA            0             0         0           0         0             1        0             6          2         5\n",
      "1            0      VILA RUBIM            0             1         0           0         0             1        1             6          0         4\n",
      "2            1   SÃO CRISTÓVÃO            1             0         0           0         0             1        1             6          4         4\n",
      "3            1         MARUÍPE            0             1         1           0         0             1        0             6          4         5\n",
      "4            1   SÃO CRISTÓVÃO            0             1         1           0         0             1        0             6          4         6\n",
      "...        ...             ...          ...           ...       ...         ...       ...           ...      ...           ...        ...       ...\n",
      "110522       0  JARDIM CAMBURI            0             0         0           0         0             0        0             0          2         5\n",
      "110523       1  JARDIM CAMBURI            0             0         0           0         0             0        0             0          2         5\n",
      "110524       0  JARDIM CAMBURI            0             0         0           0         0             0        0             0          2         4\n",
      "110525       1  JARDIM CAMBURI            0             0         0           0         0             0        0             0          2         4\n",
      "110526       1  JARDIM CAMBURI            0             0         0           0         0             0        0             0          2         4\n",
      "\n",
      "[110526 rows x 12 columns]\n"
     ]
    }
   ],
   "source": [
    "df.drop(columns=[\"age\"], inplace=True)\n",
    "print(df)"
   ]
  },
  {
   "cell_type": "code",
   "execution_count": 16,
   "id": "436a9ef5",
   "metadata": {},
   "outputs": [
    {
     "name": "stdout",
     "output_type": "stream",
     "text": [
      "        gender  neighbourhood  scholarship  hypertension  diabetes  alcoholism  handicap  sms_received  no_show lag_days_bins  dayofweek age_group\n",
      "0            1             59            0             0         0           0         0             1        0             6          2         5\n",
      "1            0             80            0             1         0           0         0             1        1             6          0         4\n",
      "2            1             75            1             0         0           0         0             1        1             6          4         4\n",
      "3            1             44            0             1         1           0         0             1        0             6          4         5\n",
      "4            1             75            0             1         1           0         0             1        0             6          4         6\n",
      "...        ...            ...          ...           ...       ...         ...       ...           ...      ...           ...        ...       ...\n",
      "110522       0             38            0             0         0           0         0             0        0             0          2         5\n",
      "110523       1             38            0             0         0           0         0             0        0             0          2         5\n",
      "110524       0             38            0             0         0           0         0             0        0             0          2         4\n",
      "110525       1             38            0             0         0           0         0             0        0             0          2         4\n",
      "110526       1             38            0             0         0           0         0             0        0             0          2         4\n",
      "\n",
      "[110526 rows x 12 columns]\n"
     ]
    }
   ],
   "source": [
    "cities = sorted(df[\"neighbourhood\"].unique())\n",
    "df[\"neighbourhood\"] = df[\"neighbourhood\"].apply(lambda x: cities.index(x))\n",
    "print(df)"
   ]
  },
  {
   "cell_type": "code",
   "execution_count": 17,
   "id": "0692efd1",
   "metadata": {},
   "outputs": [
    {
     "name": "stdout",
     "output_type": "stream",
     "text": [
      "        gender  scholarship  hypertension  diabetes  alcoholism  handicap  sms_received  no_show  neighbourhood_0  neighbourhood_1  ...  dayofweek_3  dayofweek_4  dayofweek_5  age_group_0  age_group_1  age_group_2  age_group_3  age_group_4  age_group_5  age_group_6\n",
      "0            1            0             0         0           0         0             1        0                0                0  ...            0            0            0            0            0            0            0            0            1            0\n",
      "1            0            0             1         0           0         0             1        1                0                0  ...            0            0            0            0            0            0            0            1            0            0\n",
      "2            1            1             0         0           0         0             1        1                0                0  ...            0            1            0            0            0            0            0            1            0            0\n",
      "3            1            0             1         1           0         0             1        0                0                0  ...            0            1            0            0            0            0            0            0            1            0\n",
      "4            1            0             1         1           0         0             1        0                0                0  ...            0            1            0            0            0            0            0            0            0            1\n",
      "...        ...          ...           ...       ...         ...       ...           ...      ...              ...              ...  ...          ...          ...          ...          ...          ...          ...          ...          ...          ...          ...\n",
      "110522       0            0             0         0           0         0             0        0                0                0  ...            0            0            0            0            0            0            0            0            1            0\n",
      "110523       1            0             0         0           0         0             0        0                0                0  ...            0            0            0            0            0            0            0            0            1            0\n",
      "110524       0            0             0         0           0         0             0        0                0                0  ...            0            0            0            0            0            0            0            1            0            0\n",
      "110525       1            0             0         0           0         0             0        0                0                0  ...            0            0            0            0            0            0            0            1            0            0\n",
      "110526       1            0             0         0           0         0             0        0                0                0  ...            0            0            0            0            0            0            0            1            0            0\n",
      "\n",
      "[110526 rows x 109 columns]\n"
     ]
    }
   ],
   "source": [
    "df = pd.get_dummies(df, columns=[\"neighbourhood\", \"lag_days_bins\", \"dayofweek\", \"age_group\"], dtype=int)\n",
    "print(df)"
   ]
  },
  {
   "cell_type": "code",
   "execution_count": 18,
   "id": "0c839dda",
   "metadata": {},
   "outputs": [
    {
     "name": "stdout",
     "output_type": "stream",
     "text": [
      "        gender  scholarship  hypertension  diabetes  alcoholism  handicap  sms_received  neighbourhood_0  neighbourhood_1  neighbourhood_2  ...  dayofweek_4  dayofweek_5  age_group_0  age_group_1  age_group_2  age_group_3  age_group_4  age_group_5  age_group_6  no_show\n",
      "0            1            0             0         0           0         0             1                0                0                0  ...            0            0            0            0            0            0            0            1            0        0\n",
      "1            0            0             1         0           0         0             1                0                0                0  ...            0            0            0            0            0            0            1            0            0        1\n",
      "2            1            1             0         0           0         0             1                0                0                0  ...            1            0            0            0            0            0            1            0            0        1\n",
      "3            1            0             1         1           0         0             1                0                0                0  ...            1            0            0            0            0            0            0            1            0        0\n",
      "4            1            0             1         1           0         0             1                0                0                0  ...            1            0            0            0            0            0            0            0            1        0\n",
      "...        ...          ...           ...       ...         ...       ...           ...              ...              ...              ...  ...          ...          ...          ...          ...          ...          ...          ...          ...          ...      ...\n",
      "110522       0            0             0         0           0         0             0                0                0                0  ...            0            0            0            0            0            0            0            1            0        0\n",
      "110523       1            0             0         0           0         0             0                0                0                0  ...            0            0            0            0            0            0            0            1            0        0\n",
      "110524       0            0             0         0           0         0             0                0                0                0  ...            0            0            0            0            0            0            1            0            0        0\n",
      "110525       1            0             0         0           0         0             0                0                0                0  ...            0            0            0            0            0            0            1            0            0        0\n",
      "110526       1            0             0         0           0         0             0                0                0                0  ...            0            0            0            0            0            0            1            0            0        0\n",
      "\n",
      "[110526 rows x 109 columns]\n"
     ]
    }
   ],
   "source": [
    "df = df[[c for c in df if c not in [\"no_show\"]] + [\"no_show\"]]\n",
    "print(df)"
   ]
  },
  {
   "cell_type": "markdown",
   "id": "60320cd3",
   "metadata": {},
   "source": [
    "## Create and Store Dataset"
   ]
  },
  {
   "cell_type": "code",
   "execution_count": null,
   "id": "b0a53f0d",
   "metadata": {},
   "outputs": [],
   "source": [
    "def create_and_store_dataset(idx):\n",
    "    full_dataset = CustomDataset(df)\n",
    "    train_size = int(0.8 * len(full_dataset))\n",
    "    val_size = len(full_dataset) - train_size\n",
    "    train_dataset, val_dataset = random_split(full_dataset, [train_size, val_size])\n",
    "    torch.save(\n",
    "        {\n",
    "            \"train_dataset\": train_dataset,\n",
    "            \"val_dataset\": val_dataset\n",
    "        },\n",
    "        f\"../../data/healthcare_no_show/healthcare_datasets_{idx}.pt\"\n",
    "    )"
   ]
  },
  {
   "cell_type": "code",
   "execution_count": 25,
   "id": "880068a0",
   "metadata": {},
   "outputs": [
    {
     "name": "stdout",
     "output_type": "stream",
     "text": [
      "Dataset 1/3 created and stored.\n",
      "Dataset 2/3 created and stored.\n",
      "Dataset 3/3 created and stored.\n"
     ]
    }
   ],
   "source": [
    "n_cross_val = 3\n",
    "for i in range(n_cross_val):\n",
    "    create_and_store_dataset(i)\n",
    "    print(f\"Dataset {i+1}/{n_cross_val} created and stored.\")"
   ]
  }
 ],
 "metadata": {
  "kernelspec": {
   "display_name": "forecast",
   "language": "python",
   "name": "python3"
  },
  "language_info": {
   "codemirror_mode": {
    "name": "ipython",
    "version": 3
   },
   "file_extension": ".py",
   "mimetype": "text/x-python",
   "name": "python",
   "nbconvert_exporter": "python",
   "pygments_lexer": "ipython3",
   "version": "3.11.11"
  }
 },
 "nbformat": 4,
 "nbformat_minor": 5
}
