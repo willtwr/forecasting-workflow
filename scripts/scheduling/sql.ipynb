{
 "cells": [
  {
   "cell_type": "code",
   "execution_count": null,
   "id": "9a60603d",
   "metadata": {},
   "outputs": [],
   "source": [
    "import os\n",
    "from dotenv import load_dotenv\n",
    "import mysql\n",
    "\n",
    "load_dotenv()"
   ]
  },
  {
   "cell_type": "code",
   "execution_count": null,
   "id": "918f5040",
   "metadata": {},
   "outputs": [],
   "source": [
    "mydb = mysql.connector.connect(\n",
    "    host=os.getenv(\"HOST\"),\n",
    "    user=os.getenv(\"USER\"),\n",
    "    password=os.getenv(\"PASSWORD\"),\n",
    "    database=os.getenv(\"DATABASE\")\n",
    ")\n",
    "mycursor = mydb.cursor()"
   ]
  },
  {
   "cell_type": "code",
   "execution_count": null,
   "id": "08253e4b",
   "metadata": {},
   "outputs": [],
   "source": [
    "create_table_query = (\n",
    "    \"CREATE TABLE healthcare (\"\n",
    "    'appointment_id MEDIUMINT UNSIGNED PRIMARY KEY'\n",
    "    'patient_id BIGINT UNSIGNED'\n",
    "    'gender ENUM(\"F\", \"M\")'\n",
    "    'scheduled_day DATETIME'\n",
    "    'appointment_day DATETIME'\n",
    "    'age TINYINT UNSIGNED'\n",
    "    'neighbourhood VARCHAR(255)'\n",
    "    'scholarship BIT(1)'\n",
    "    'hypertension BIT(1)'\n",
    "    'diabetes BIT(1)'\n",
    "    'alcoholism BIT(1)'\n",
    "    'handicap ENUM(0, 1, 2, 3, 4)'\n",
    "    'sms_received BIT(1)'\n",
    "    'no_show BIT(1)'\n",
    "    \")\"\n",
    ")"
   ]
  },
  {
   "cell_type": "code",
   "execution_count": null,
   "id": "3b17fda7",
   "metadata": {},
   "outputs": [],
   "source": [
    "mycursor.execute(create_table_query)"
   ]
  },
  {
   "cell_type": "code",
   "execution_count": null,
   "id": "412d69ba",
   "metadata": {},
   "outputs": [],
   "source": [
    "match_fields = {\n",
    "    'PatientId': 'patient_id',\n",
    "    'AppointmentID': 'appointment_id',\n",
    "    'Gender': 'gender',\n",
    "    'ScheduledDay': 'scheduled_day',\n",
    "    'AppointmentDay': 'appointment_day',\n",
    "    'Age': 'age',\n",
    "    'Neighbourhood': 'neighbourhood',\n",
    "    'Scholarship': 'scholarship',\n",
    "    'Hipertension': 'hypertension',\n",
    "    'Diabetes': 'diabetes',\n",
    "    'Alcoholism': 'alcoholism',\n",
    "    'Handcap': 'handicap',\n",
    "    'SMS_received': 'sms_received',\n",
    "    'No-show': 'no_show'\n",
    "}"
   ]
  }
 ],
 "metadata": {
  "kernelspec": {
   "display_name": "forecast",
   "language": "python",
   "name": "python3"
  },
  "language_info": {
   "codemirror_mode": {
    "name": "ipython",
    "version": 3
   },
   "file_extension": ".py",
   "mimetype": "text/x-python",
   "name": "python",
   "nbconvert_exporter": "python",
   "pygments_lexer": "ipython3",
   "version": "3.11.11"
  }
 },
 "nbformat": 4,
 "nbformat_minor": 5
}
