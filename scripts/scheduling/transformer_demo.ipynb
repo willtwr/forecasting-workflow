{
 "cells": [
  {
   "cell_type": "code",
   "execution_count": null,
   "id": "c40d67ea",
   "metadata": {},
   "outputs": [],
   "source": [
    "from torch import nn"
   ]
  },
  {
   "cell_type": "code",
   "execution_count": null,
   "id": "2ae6621c",
   "metadata": {},
   "outputs": [],
   "source": [
    "import torch\n",
    "\n",
    "class TransformerClassifier(nn.Module):\n",
    "    def __init__(self, input_dim, num_classes, d_model=512, nhead=8, \n",
    "                 num_encoder_layers=6, dim_feedforward=2048, dropout=0.1):\n",
    "        super().__init__()\n",
    "        \n",
    "        # Input projection layer\n",
    "        self.input_projection = nn.Linear(input_dim, d_model)\n",
    "        \n",
    "        # Transformer encoder\n",
    "        encoder_layer = nn.TransformerEncoderLayer(\n",
    "            d_model=d_model,\n",
    "            nhead=nhead,\n",
    "            dim_feedforward=dim_feedforward,\n",
    "            dropout=dropout,\n",
    "            batch_first=True\n",
    "        )\n",
    "        self.transformer_encoder = nn.TransformerEncoder(\n",
    "            encoder_layer,\n",
    "            num_layers=num_encoder_layers\n",
    "        )\n",
    "        \n",
    "        # Output classifier\n",
    "        self.classifier = nn.Linear(d_model, num_classes)\n",
    "        \n",
    "    def forward(self, x):\n",
    "        # Project input to d_model dimensions\n",
    "        x = self.input_projection(x)\n",
    "        \n",
    "        # Apply transformer encoder\n",
    "        x = self.transformer_encoder(x)\n",
    "        \n",
    "        # Global average pooling\n",
    "        x = torch.mean(x, dim=1)\n",
    "        \n",
    "        # Classification layer\n",
    "        output = self.classifier(x)\n",
    "        return output\n",
    "\n",
    "# Example usage:\n",
    "'''\n",
    "model = TransformerClassifier(\n",
    "    input_dim=64,        # dimension of input features\n",
    "    num_classes=10,      # number of output classes\n",
    "    d_model=512,         # transformer embedding dimension\n",
    "    nhead=8,            # number of attention heads\n",
    "    num_encoder_layers=6 # number of transformer encoder layers\n",
    ")\n",
    "'''"
   ]
  }
 ],
 "metadata": {
  "kernelspec": {
   "display_name": "forecast",
   "language": "python",
   "name": "python3"
  },
  "language_info": {
   "name": "python",
   "version": "3.11.11"
  }
 },
 "nbformat": 4,
 "nbformat_minor": 5
}
