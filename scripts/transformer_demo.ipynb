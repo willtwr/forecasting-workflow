{
 "cells": [
  {
   "cell_type": "code",
   "execution_count": null,
   "id": "c40d67ea",
   "metadata": {},
   "outputs": [],
   "source": [
    "from torch import nn"
   ]
  },
  {
   "cell_type": "code",
   "execution_count": null,
   "id": "bfdbf772",
   "metadata": {},
   "outputs": [],
   "source": [
    "nn.TransformerEncoderLayer\n",
    "nn.TransformerEncoder"
   ]
  },
  {
   "cell_type": "code",
   "execution_count": null,
   "id": "2ae6621c",
   "metadata": {},
   "outputs": [],
   "source": []
  }
 ],
 "metadata": {
  "kernelspec": {
   "display_name": "forecast",
   "language": "python",
   "name": "python3"
  },
  "language_info": {
   "name": "python",
   "version": "3.11.11"
  }
 },
 "nbformat": 4,
 "nbformat_minor": 5
}
